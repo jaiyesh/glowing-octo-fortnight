{
 "cells": [
  {
   "cell_type": "markdown",
   "metadata": {},
   "source": [
    "# 1: Importing Superpowers of python"
   ]
  },
  {
   "cell_type": "code",
   "execution_count": 1,
   "metadata": {},
   "outputs": [],
   "source": [
    "import numpy as np\n",
    "import pandas as pd\n",
    "import seaborn as sns\n",
    "import matplotlib.pyplot as plt\n",
    "%matplotlib inline"
   ]
  },
  {
   "cell_type": "markdown",
   "metadata": {},
   "source": [
    "## 2. Function and Data Preparation"
   ]
  },
  {
   "cell_type": "markdown",
   "metadata": {},
   "source": [
    "    y = wx + b\n",
    "    y = 2x - 3"
   ]
  },
  {
   "cell_type": "code",
   "execution_count": 2,
   "metadata": {},
   "outputs": [],
   "source": [
    "def datamaker(N, err):\n",
    "    x = np.linspace(-1,1,N)\n",
    "\n",
    "    y = 2*x - 3\n",
    "\n",
    "    y = y + err*np.random.randn(N)\n",
    "\n",
    "    return x , y"
   ]
  },
  {
   "cell_type": "code",
   "execution_count": 3,
   "metadata": {},
   "outputs": [],
   "source": [
    "X_train, y_train = datamaker(500,0.2)\n",
    "#X_train = X_train[:,np.newaxis]"
   ]
  },
  {
   "cell_type": "code",
   "execution_count": 4,
   "metadata": {},
   "outputs": [
    {
     "data": {
      "text/plain": [
       "<matplotlib.collections.PathCollection at 0x24d05ceba08>"
      ]
     },
     "execution_count": 4,
     "metadata": {},
     "output_type": "execute_result"
    },
    {
     "data": {
      "image/png": "[encoded data removed]",
      "text/plain": [
       "<Figure size 432x288 with 1 Axes>"
      ]
     },
     "metadata": {
      "needs_background": "light"
     },
     "output_type": "display_data"
    }
   ],
   "source": [
    "plt.scatter(X_train,y_train)"
   ]
  },
  {
   "cell_type": "code",
   "execution_count": 5,
   "metadata": {},
   "outputs": [],
   "source": [
    "w_actual = 2\n",
    "b_actual = -3"
   ]
  },
  {
   "cell_type": "code",
   "execution_count": 6,
   "metadata": {},
   "outputs": [
    {
     "data": {
      "text/html": [
       "<div>\n",
       "<style scoped>\n",
       "    .dataframe tbody tr th:only-of-type {\n",
       "        vertical-align: middle;\n",
       "    }\n",
       "\n",
       "    .dataframe tbody tr th {\n",
       "        vertical-align: top;\n",
       "    }\n",
       "\n",
       "    .dataframe thead th {\n",
       "        text-align: right;\n",
       "    }\n",
       "</style>\n",
       "<table border=\"1\" class=\"dataframe\">\n",
       "  <thead>\n",
       "    <tr style=\"text-align: right;\">\n",
       "      <th></th>\n",
       "      <th>X_train</th>\n",
       "      <th>y_train</th>\n",
       "    </tr>\n",
       "  </thead>\n",
       "  <tbody>\n",
       "    <tr>\n",
       "      <th>0</th>\n",
       "      <td>-1.000000</td>\n",
       "      <td>-5.577881</td>\n",
       "    </tr>\n",
       "    <tr>\n",
       "      <th>1</th>\n",
       "      <td>-0.995992</td>\n",
       "      <td>-4.878032</td>\n",
       "    </tr>\n",
       "    <tr>\n",
       "      <th>2</th>\n",
       "      <td>-0.991984</td>\n",
       "      <td>-5.054653</td>\n",
       "    </tr>\n",
       "    <tr>\n",
       "      <th>3</th>\n",
       "      <td>-0.987976</td>\n",
       "      <td>-4.908925</td>\n",
       "    </tr>\n",
       "    <tr>\n",
       "      <th>4</th>\n",
       "      <td>-0.983968</td>\n",
       "      <td>-4.808613</td>\n",
       "    </tr>\n",
       "  </tbody>\n",
       "</table>\n",
       "</div>"
      ],
      "text/plain": [
       "    X_train   y_train\n",
       "0 -1.000000 -5.577881\n",
       "1 -0.995992 -4.878032\n",
       "2 -0.991984 -5.054653\n",
       "3 -0.987976 -4.908925\n",
       "4 -0.983968 -4.808613"
      ]
     },
     "execution_count": 6,
     "metadata": {},
     "output_type": "execute_result"
    }
   ],
   "source": [
    "df = pd.DataFrame({'X_train':X_train, 'y_train': y_train})\n",
    "df.head()"
   ]
  },
  {
   "cell_type": "code",
   "execution_count": 7,
   "metadata": {},
   "outputs": [],
   "source": [
    "X = np.array(df[['X_train']])\n",
    "y = np.array(df[['y_train']])"
   ]
  },
  {
   "cell_type": "code",
   "execution_count": 8,
   "metadata": {},
   "outputs": [
    {
     "data": {
      "text/plain": [
       "(500, 1)"
      ]
     },
     "execution_count": 8,
     "metadata": {},
     "output_type": "execute_result"
    }
   ],
   "source": [
    "X.shape"
   ]
  },
  {
   "cell_type": "code",
   "execution_count": 9,
   "metadata": {},
   "outputs": [
    {
     "data": {
      "text/plain": [
       "(500, 1)"
      ]
     },
     "execution_count": 9,
     "metadata": {},
     "output_type": "execute_result"
    }
   ],
   "source": [
    "y.shape"
   ]
  },
  {
   "cell_type": "markdown",
   "metadata": {},
   "source": [
    "## 3. Cost Function = That defines how bad our model prediction is compared to actual values"
   ]
  },
  {
   "cell_type": "code",
   "execution_count": 10,
   "metadata": {},
   "outputs": [],
   "source": [
    "def costfunc(w,b,X,y):\n",
    "    Z = np.dot(X,w) +b\n",
    "    #Xshape = 500x1\n",
    "    #W shape = 1x1\n",
    "    #b shape = 1x1\n",
    "    #Z shape = 500x1\n",
    "    #y shape = 500x1\n",
    "    loss = (y-Z)**2\n",
    "    \n",
    "    m = len(Z)\n",
    "    \n",
    "    j = ((1/m)*np.sum(loss))\n",
    "    \n",
    "    return j"
   ]
  },
  {
   "cell_type": "markdown",
   "metadata": {},
   "source": [
    "\n",
    "# 4. Some Formulas for updating bias and constant term\n",
    "## 1. $ J(w,b) = \\frac {1}{m} \\sum [y - (W.X + b)]^2 $\n",
    "## 2. $ \\frac {\\partial J}{\\partial W} = \\frac {-2}{m} (X^T . [y - (W.X + b)]) $\n",
    "## 3. $ \\frac {\\partial J} {\\partial b} = \\frac {-2}{m} \\sum [ y - (W.X + b) ] $"
   ]
  },
  {
   "cell_type": "code",
   "execution_count": 11,
   "metadata": {},
   "outputs": [],
   "source": [
    "def gradient(w,b,X,y):\n",
    "    \n",
    "    #dw = dJ/dw = Xt.(y-Z) = 1x500.500x1 = 1x1\n",
    "    #db = dJ/db = 1x1\n",
    "    \n",
    "        \n",
    "    #X - 500x1\n",
    "    #y - 500x1\n",
    "    #w - 1x1\n",
    "    #b - 1x1\n",
    "    \n",
    "    Z = np.dot(X , w) + b\n",
    "    \n",
    "    J = costfunc(w,b,X,y)\n",
    "    \n",
    "    m = X.shape[0]\n",
    "    \n",
    "    dw = (-2/m)*np.dot(X.T , (y - Z))\n",
    "    \n",
    "    db = (-2/m)*np.sum(y - Z)\n",
    "    \n",
    "    return dw , db"
   ]
  },
  {
   "cell_type": "code",
   "execution_count": 12,
   "metadata": {},
   "outputs": [],
   "source": [
    "#X.shape\n",
    "\n",
    "#y.shape"
   ]
  },
  {
   "cell_type": "code",
   "execution_count": 13,
   "metadata": {},
   "outputs": [
    {
     "name": "stdout",
     "output_type": "stream",
     "text": [
      "2 4\n",
      "49.24057876605539\n"
     ]
    }
   ],
   "source": [
    "\n",
    "\n",
    "#Just a check on how terrible our initial guess is performing.\n",
    "w = np.random.randint(0,10)\n",
    "b = np.random.randint(0,10)\n",
    "\n",
    "\n",
    "print(w,b)\n",
    "print(costfunc(w,b,X,y))"
   ]
  },
  {
   "cell_type": "markdown",
   "metadata": {},
   "source": [
    "## 5. Lets make machine learn"
   ]
  },
  {
   "cell_type": "code",
   "execution_count": 14,
   "metadata": {},
   "outputs": [],
   "source": [
    "def learning(w,b,X,y,iteration):\n",
    "    \n",
    "    #dw = dJ/dw = 1x1\n",
    "    #db = dJ/db = 1x1\n",
    "    \n",
    "    #X - 500x1\n",
    "    #y - 500x1\n",
    "    #w - 1x1\n",
    "    #b - 1x1\n",
    "    \n",
    "    Z = np.dot(X , w) + b\n",
    "    \n",
    "    costs = []\n",
    "    \n",
    "    costs.append(costfunc(w,b,X,y))\n",
    "    \n",
    "    for e in range(iteration):\n",
    "        \n",
    "        dw , db = gradient(w,b,X,y)\n",
    "        \n",
    "        w = w - 0.005*dw\n",
    "        \n",
    "        b = b - 0.005*db\n",
    "        \n",
    "        #if e%100 == 0:\n",
    "        costs.append(costfunc(w,b,X,y))\n",
    "        \n",
    "    \n",
    "    wf = w\n",
    "    bf = b\n",
    "    \n",
    "    return wf , bf , costs"
   ]
  },
  {
   "cell_type": "code",
   "execution_count": 15,
   "metadata": {},
   "outputs": [],
   "source": [
    "\n",
    "\n",
    "wf , bf , costs = learning(w,b,X,y,1000)\n",
    "\n"
   ]
  },
  {
   "cell_type": "code",
   "execution_count": 16,
   "metadata": {},
   "outputs": [
    {
     "data": {
      "text/plain": [
       "(array([[2.00745873]]), -3.0140155210881105)"
      ]
     },
     "execution_count": 16,
     "metadata": {},
     "output_type": "execute_result"
    }
   ],
   "source": [
    "wf, bf"
   ]
  },
  {
   "cell_type": "code",
   "execution_count": 17,
   "metadata": {},
   "outputs": [
    {
     "data": {
      "image/png": "[encoded data removed]",
      "text/plain": [
       "<Figure size 576x288 with 1 Axes>"
      ]
     },
     "metadata": {
      "needs_background": "light"
     },
     "output_type": "display_data"
    }
   ],
   "source": [
    "plt.figure(figsize = (8,4))\n",
    "plt.style.use('default')\n",
    "plt.plot(costs ,c='red' , marker='x')\n",
    "plt.xlabel('Iterations')\n",
    "plt.ylabel('Error/Loss/Cost Function')\n",
    "plt.title('Optimization Progress : Linear Regression!')\n",
    "\n",
    "plt.grid()"
   ]
  },
  {
   "cell_type": "code",
   "execution_count": 18,
   "metadata": {},
   "outputs": [],
   "source": [
    "Actual = ['w = 2' , 'b = -3']\n",
    "\n",
    "ModelResults = [f'w = {wf[0][0]}' , f'b = {bf}' ]"
   ]
  },
  {
   "cell_type": "code",
   "execution_count": 19,
   "metadata": {},
   "outputs": [],
   "source": [
    "results = pd.DataFrame({'Actual Parameters':Actual , 'Model-Parameters':ModelResults})"
   ]
  },
  {
   "cell_type": "code",
   "execution_count": 20,
   "metadata": {},
   "outputs": [
    {
     "data": {
      "text/html": [
       "<div>\n",
       "<style scoped>\n",
       "    .dataframe tbody tr th:only-of-type {\n",
       "        vertical-align: middle;\n",
       "    }\n",
       "\n",
       "    .dataframe tbody tr th {\n",
       "        vertical-align: top;\n",
       "    }\n",
       "\n",
       "    .dataframe thead th {\n",
       "        text-align: right;\n",
       "    }\n",
       "</style>\n",
       "<table border=\"1\" class=\"dataframe\">\n",
       "  <thead>\n",
       "    <tr style=\"text-align: right;\">\n",
       "      <th></th>\n",
       "      <th>Actual Parameters</th>\n",
       "      <th>Model-Parameters</th>\n",
       "    </tr>\n",
       "  </thead>\n",
       "  <tbody>\n",
       "    <tr>\n",
       "      <th>0</th>\n",
       "      <td>w = 2</td>\n",
       "      <td>w = 2.0074587325931157</td>\n",
       "    </tr>\n",
       "    <tr>\n",
       "      <th>1</th>\n",
       "      <td>b = -3</td>\n",
       "      <td>b = -3.0140155210881105</td>\n",
       "    </tr>\n",
       "  </tbody>\n",
       "</table>\n",
       "</div>"
      ],
      "text/plain": [
       "  Actual Parameters         Model-Parameters\n",
       "0             w = 2   w = 2.0074587325931157\n",
       "1            b = -3  b = -3.0140155210881105"
      ]
     },
     "execution_count": 20,
     "metadata": {},
     "output_type": "execute_result"
    }
   ],
   "source": [
    "results"
   ]
  },
  {
   "cell_type": "code",
   "execution_count": 21,
   "metadata": {},
   "outputs": [
    {
     "data": {
      "image/png": "[encoded data removed]",
      "text/plain": [
       "<Figure size 640x480 with 1 Axes>"
      ]
     },
     "metadata": {},
     "output_type": "display_data"
    }
   ],
   "source": [
    "plt.scatter(X_train,y_train)\n",
    "plt.plot(X_train,wf[0][0]*X_train + bf, c = 'red',linewidth = 4 )\n",
    "plt.grid()"
   ]
  },
  {
   "cell_type": "markdown",
   "metadata": {},
   "source": [
    "## Making Prediction"
   ]
  },
  {
   "cell_type": "code",
   "execution_count": 22,
   "metadata": {},
   "outputs": [
    {
     "name": "stdout",
     "output_type": "stream",
     "text": [
      "Enter value for which you want predictions: 485\n",
      "y_predicted is: 970.603469786573. Y_actual is: 967\n"
     ]
    }
   ],
   "source": [
    "xpre = int(input('Enter value for which you want predictions: '))\n",
    "ypre = wf[0][0]*xpre + bf\n",
    "yact = 2*xpre - 3\n",
    "print(\"y_predicted is: \"+ str(ypre) + '. Y_actual is: '+ str(yact))"
   ]
  },
  {
   "cell_type": "code",
   "execution_count": 285,
   "metadata": {},
   "outputs": [
    {
     "data": {
      "text/plain": [
       "'###############Thank You################'"
      ]
     },
     "execution_count": 285,
     "metadata": {},
     "output_type": "execute_result"
    }
   ],
   "source": [
    "\"Thank You\".center(40,'#')"
   ]
  },
  {
   "cell_type": "markdown",
   "metadata": {},
   "source": [
    "# #########"
   ]
  }
 ],
 "metadata": {
  "kernelspec": {
   "display_name": "Python 3",
   "language": "python",
   "name": "python3"
  },
  "language_info": {
   "codemirror_mode": {
    "name": "ipython",
    "version": 3
   },
   "file_extension": ".py",
   "mimetype": "text/x-python",
   "name": "python",
   "nbconvert_exporter": "python",
   "pygments_lexer": "ipython3",
   "version": "3.7.4"
  }
 },
 "nbformat": 4,
 "nbformat_minor": 2
}
